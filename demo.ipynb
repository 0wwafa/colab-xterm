{
  "nbformat": 4,
  "nbformat_minor": 0,
  "metadata": {
    "colab": {
      "name": "colab-xterm.ipynb",
      "provenance": [],
      "collapsed_sections": []
    },
    "kernelspec": {
      "name": "python3",
      "display_name": "Python 3"
    },
    "language_info": {
      "name": "python"
    }
  },
  "cells": [
    {
      "cell_type": "code",
      "source": [
        "!pip install git+https://github.com/popcornylu/colab-xterm\n",
        "%load_ext colabxterm"
      ],
      "metadata": {
        "colab": {
          "base_uri": "https://localhost:8080/"
        },
        "id": "qnz_zEcp5zAJ",
        "outputId": "5265c752-d1aa-4d79-e41e-5374652d278f"
      },
      "execution_count": 1,
      "outputs": [
        {
          "output_type": "stream",
          "name": "stdout",
          "text": [
            "Collecting git+https://github.com/popcornylu/colab-xterm\n",
            "  Cloning https://github.com/popcornylu/colab-xterm to /tmp/pip-req-build-ranldufr\n",
            "  Running command git clone -q https://github.com/popcornylu/colab-xterm /tmp/pip-req-build-ranldufr\n",
            "Requirement already satisfied: ptyprocess~=0.7.0 in /usr/local/lib/python3.7/dist-packages (from colab-xterm==0.1.0) (0.7.0)\n",
            "Requirement already satisfied: tornado>5.1 in /usr/local/lib/python3.7/dist-packages (from colab-xterm==0.1.0) (5.1.1)\n",
            "Building wheels for collected packages: colab-xterm\n",
            "  Building wheel for colab-xterm (setup.py) ... \u001b[?25l\u001b[?25hdone\n",
            "  Created wheel for colab-xterm: filename=colab_xterm-0.1.0-py3-none-any.whl size=13545 sha256=b72a1ce000c31a25daf649040eaa79e4f78a11840ffcff7f88bb7dcdf2f90e58\n",
            "  Stored in directory: /tmp/pip-ephem-wheel-cache-iwwyogo7/wheels/2a/6f/4f/dab5555ed35c64d612cfa19dadc22a792d12f3b8523e4e7396\n",
            "Successfully built colab-xterm\n",
            "Installing collected packages: colab-xterm\n",
            "Successfully installed colab-xterm-0.1.0\n"
          ]
        }
      ]
    },
    {
      "cell_type": "code",
      "source": [
        "%xterm"
      ],
      "metadata": {
        "id": "L6fpF-d37DN1",
        "outputId": "edbeb1c4-a2e5-4ba8-e678-acd7617dbb91",
        "colab": {
          "base_uri": "https://localhost:8080/",
          "height": 821,
          "resources": {
            "https://localhost:10000/?tensorboardColab=true": {
              "data": "PGh0bWw+Cjxib2R5Pgo8bGluayByZWw9InN0eWxlc2hlZXQiIGhyZWY9Imh0dHBzOi8vY2RuLmpzZGVsaXZyLm5ldC9ucG0veHRlcm1ANC4xNi4wL2Nzcy94dGVybS5jc3MiIC8+CjxzY3JpcHQgc3JjPSJodHRwczovL2Nkbi5qc2RlbGl2ci5uZXQvbnBtL3h0ZXJtQDQuMTYuMC9saWIveHRlcm0ubWluLmpzIj48L3NjcmlwdD4KPGRpdiBpZD0idGVybWluYWwiPjwvZGl2Pgo8ZGl2IGlkPSJsb2ciPjwvZGl2Pgo8c2NyaXB0PgpjbGFzcyBDaHVua2VkUmVzcG9uc2VSZXF1ZXN0IGV4dGVuZHMgWE1MSHR0cFJlcXVlc3Qgewpjb25zdHJ1Y3RvciguLi5hcmdzKSB7CnN1cGVyKC4uLmFyZ3MpOwp0aGlzLmRhdGEgPSBudWxsOwp0aGlzLmFkZEV2ZW50TGlzdGVuZXIoJ3Byb2dyZXNzJywgXyA9PiB7CmlmKHRoaXMuZGF0YSA9PT0gdGhpcy5yZXNwb25zZSkgcmV0dXJuOwpjb25zdCBjaHVuayA9IHRoaXMuZGF0YSA9PT0gbnVsbCA/IHRoaXMucmVzcG9uc2UKOiB0aGlzLnJlc3BvbnNlLnN1YnN0cih0aGlzLmRhdGEubGVuZ3RoKTsKdGhpcy5kYXRhID0gdGhpcy5yZXNwb25zZTsKdGhpcy5kaXNwYXRjaEV2ZW50KG5ldyBNZXNzYWdlRXZlbnQoJ21lc3NhZ2UnLCB7IGRhdGE6IGNodW5rIH0pKTsKfSk7Cn0KfQpmdW5jdGlvbiBsb2cobWVzc2FnZSkgewpkb2N1bWVudC5nZXRFbGVtZW50QnlJZCgnbG9nJykuaW5uZXJIVE1MICs9ICI8YnI+IiArIG1lc3NhZ2U7Cn0KdmFyIHRlcm0gPSBuZXcgVGVybWluYWwoKTsKdGVybS5vcGVuKGRvY3VtZW50LmdldEVsZW1lbnRCeUlkKCd0ZXJtaW5hbCcpKTsKdGVybS5vbkRhdGEoKGRhdGEpID0+IHsKYmFzZTY0c3RyID0gYnRvYShkYXRhKQp2YXIgb1JlcSA9IG5ldyBYTUxIdHRwUmVxdWVzdCgpOwpvUmVxLm9wZW4oIkdFVCIsICIvaW4vIitiYXNlNjRzdHIsIHRydWUpOwpvUmVxLnNlbmQobnVsbCk7Cn0pOwpmdW5jdGlvbiByZXF1ZXN0KCkgewp2YXIgb1JlcSA9IG5ldyBYTUxIdHRwUmVxdWVzdCgpOwpvUmVxLm9wZW4oIkdFVCIsICIvb3V0IiwgdHJ1ZSk7Cm9SZXEucmVzcG9uc2VUeXBlID0gImFycmF5YnVmZmVyIjsKb1JlcS5vbmxvYWQgPSBmdW5jdGlvbiAob0V2ZW50KSB7CnZhciBhcnJheUJ1ZmZlciA9IG9SZXEucmVzcG9uc2U7CmlmIChhcnJheUJ1ZmZlcikgewp2YXIgYnl0ZUFycmF5ID0gbmV3IFVpbnQ4QXJyYXkoYXJyYXlCdWZmZXIpOwp0ZXJtLndyaXRlKGJ5dGVBcnJheSk7Cn0KcmVxdWVzdCgpOwp9OwpvUmVxLnNlbmQobnVsbCk7Owp9CnJlcXVlc3QoKTsKPC9zY3JpcHQ+CjwvYm9keT4KPC9odG1sPg==",
              "ok": true,
              "headers": [
                [
                  "content-type",
                  "text/html; charset=UTF-8"
                ]
              ],
              "status": 200,
              "status_text": ""
            },
            "https://localhost:10000/out": {
              "data": "DQobWzBtG1swMTszNG1zYW1wbGVfZGF0YRtbMG0NChtbMDE7MzRtL2NvbnRlbnQbWzAwbSMg",
              "ok": true,
              "headers": [
                [
                  "content-type",
                  "text/html; charset=UTF-8"
                ]
              ],
              "status": 200,
              "status_text": ""
            },
            "https://localhost:10000/in/bA==": {
              "data": "",
              "ok": true,
              "headers": [
                [
                  "content-type",
                  "text/html; charset=UTF-8"
                ]
              ],
              "status": 200,
              "status_text": ""
            },
            "https://localhost:10000/in/cw==": {
              "data": "",
              "ok": true,
              "headers": [
                [
                  "content-type",
                  "text/html; charset=UTF-8"
                ]
              ],
              "status": 200,
              "status_text": ""
            },
            "https://localhost:10000/in/DQ==": {
              "data": "",
              "ok": true,
              "headers": [
                [
                  "content-type",
                  "text/html; charset=UTF-8"
                ]
              ],
              "status": 200,
              "status_text": ""
            }
          }
        }
      },
      "execution_count": 2,
      "outputs": [
        {
          "output_type": "display_data",
          "data": {
            "application/javascript": [
              "\n",
              "        (async () => {\n",
              "            const url = new URL(await google.colab.kernel.proxyPort(10000, {'cache': true}));\n",
              "            url.searchParams.set('tensorboardColab', 'true');\n",
              "            const iframe = document.createElement('iframe');\n",
              "            iframe.src = url;\n",
              "            iframe.setAttribute('width', '100%');\n",
              "            iframe.setAttribute('height', '800');\n",
              "            iframe.setAttribute('frameborder', 0);\n",
              "            document.body.appendChild(iframe);\n",
              "        })();\n",
              "    "
            ],
            "text/plain": [
              "<IPython.core.display.Javascript object>"
            ]
          },
          "metadata": {}
        }
      ]
    }
  ]
}